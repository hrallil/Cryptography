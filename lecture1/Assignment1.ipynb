{
 "cells": [
  {
   "cell_type": "code",
   "execution_count": 240,
   "metadata": {},
   "outputs": [
    {
     "name": "stdout",
     "output_type": "stream",
     "text": [
      "byte string:  b'Welcome to the crypto course!'\n"
     ]
    },
    {
     "data": {
      "text/plain": [
       "'V2VsY29tZSB0byB0aGUgY3J5cHRvIGNvdXJzZSE='"
      ]
     },
     "execution_count": 240,
     "metadata": {},
     "output_type": "execute_result"
    }
   ],
   "source": [
    "import base64\n",
    "\n",
    "example = \"49276d206b696c6c696e6720796f757220627261696e206c696b65206120706f69736f6e6f7573206d757368726f6f6d\"\n",
    "assignment = \"57656c636f6d6520746f207468652063727970746f20636f7572736521\"\n",
    "def hex_to_64(input):\n",
    "\n",
    "    byteString = bytes.fromhex(input)\n",
    "    print(\"byte string: \", byteString)\n",
    "\n",
    "    base64String = base64.b64encode(byteString).decode(\"utf-8\")\n",
    "    return base64String\n",
    "hex_to_64(assignment)"
   ]
  },
  {
   "cell_type": "code",
   "execution_count": 264,
   "metadata": {},
   "outputs": [
    {
     "data": {
      "text/plain": [
       "'746865206b696420646f6e277420706c6179'"
      ]
     },
     "execution_count": 264,
     "metadata": {},
     "output_type": "execute_result"
    }
   ],
   "source": [
    "def XOR(a,b):\n",
    "    \"\"\" Returns a Hexadecimal\"\"\"\n",
    "    a_hex = int(a, 16)\n",
    "    b_hex = int(b, 16)\n",
    "    return hex(a_hex^b_hex)[2:]\n",
    "#hex_to_64(cyphertext)\n",
    "cyphertext = XOR(\"1c0111001f010100061a024b53535009181c\",\"686974207468652062756c6c277320657965\")\n",
    "cyphertext"
   ]
  },
  {
   "cell_type": "code",
   "execution_count": 242,
   "metadata": {},
   "outputs": [
    {
     "name": "stdout",
     "output_type": "stream",
     "text": [
      "The maximum of all characters in cyphertext is : 3\n"
     ]
    },
    {
     "data": {
      "text/plain": [
       "'3'"
      ]
     },
     "execution_count": 242,
     "metadata": {},
     "output_type": "execute_result"
    }
   ],
   "source": [
    "cyphertext = \"1b37373331363f78151b7f2b783431333d78397828372d363c78373e783a393b3736\"\n",
    "\n",
    "def maxChar(input):\n",
    "    # print (\"The original string is : \" + input)\n",
    "    \n",
    "    # using naive method to get\n",
    "    # Maximum frequency character in String\n",
    "    all_freq = {}\n",
    "    for i in input:\n",
    "        if i in all_freq:\n",
    "            all_freq[i] += 1\n",
    "        else:\n",
    "            all_freq[i] = 1\n",
    "        res = max(all_freq, key = all_freq.get) \n",
    "    \n",
    "    # printing result \n",
    "    print (\"The maximum of all characters in cyphertext is : \" + str(res))\n",
    "    return res\n",
    "\n",
    "maxChar(cyphertext)"
   ]
  },
  {
   "cell_type": "code",
   "execution_count": 295,
   "metadata": {},
   "outputs": [
    {
     "name": "stdout",
     "output_type": "stream",
     "text": [
      "byte string:  b'\\x1b77316?x\\x15\\x1b\\x7f+x413=x9x(7-6<x7>x:9;76'\n",
      "The maximum of all characters in cyphertext is : 3\n",
      "found key:  2e\n"
     ]
    },
    {
     "ename": "ValueError",
     "evalue": "invalid literal for int() with base 10: '2e2e2e2e2e2e2e2e2e2e2e2e2e2e2e2e2e2e2e2e2e2e2e2e2e2e2e2e2e2e2e2e2e2e2e2e2e2e2e2e2e2e2e2e2e2e2e2e2e2e2e2e2e2e2e2e2e2e2e2e2e2e2e2e2e2e2e2e'",
     "output_type": "error",
     "traceback": [
      "\u001b[1;31m---------------------------------------------------------------------------\u001b[0m",
      "\u001b[1;31mValueError\u001b[0m                                Traceback (most recent call last)",
      "Cell \u001b[1;32mIn[295], line 27\u001b[0m\n\u001b[0;32m     24\u001b[0m     \u001b[38;5;28;01mreturn\u001b[39;00m plaintext\n\u001b[0;32m     26\u001b[0m \u001b[38;5;66;03m# 1b37373331363f78151b7f2b783431333d78397828372d363c78373e783a393b3736\u001b[39;00m\n\u001b[1;32m---> 27\u001b[0m res \u001b[38;5;241m=\u001b[39m \u001b[43mdecipher\u001b[49m\u001b[43m(\u001b[49m\u001b[38;5;124;43m\"\u001b[39;49m\u001b[38;5;124;43m1b37373331363f78151b7f2b783431333d78397828372d363c78373e783a393b3736\u001b[39;49m\u001b[38;5;124;43m\"\u001b[39;49m\u001b[43m)\u001b[49m\n\u001b[0;32m     28\u001b[0m res\n",
      "Cell \u001b[1;32mIn[295], line 23\u001b[0m, in \u001b[0;36mdecipher\u001b[1;34m(cyphertext)\u001b[0m\n\u001b[0;32m     21\u001b[0m     \u001b[38;5;28;01mreturn\u001b[39;00m \u001b[38;5;124m\"\u001b[39m\u001b[38;5;124mError\u001b[39m\u001b[38;5;124m\"\u001b[39m\n\u001b[0;32m     22\u001b[0m longKey \u001b[38;5;241m=\u001b[39m trueKey_hex \u001b[38;5;241m*\u001b[39m \u001b[38;5;28mlen\u001b[39m(cyphertext)\n\u001b[1;32m---> 23\u001b[0m plaintext \u001b[38;5;241m=\u001b[39m XOR(byteString, \u001b[38;5;28mhex\u001b[39m(\u001b[38;5;28;43mint\u001b[39;49m\u001b[43m(\u001b[49m\u001b[43mlongKey\u001b[49m\u001b[43m)\u001b[49m))\n\u001b[0;32m     24\u001b[0m \u001b[38;5;28;01mreturn\u001b[39;00m plaintext\n",
      "\u001b[1;31mValueError\u001b[0m: invalid literal for int() with base 10: '2e2e2e2e2e2e2e2e2e2e2e2e2e2e2e2e2e2e2e2e2e2e2e2e2e2e2e2e2e2e2e2e2e2e2e2e2e2e2e2e2e2e2e2e2e2e2e2e2e2e2e2e2e2e2e2e2e2e2e2e2e2e2e2e2e2e2e2e'"
     ]
    }
   ],
   "source": [
    "\n",
    "def decipher(cyphertext):\n",
    "    byteString = hex_to_64(cyphertext)\n",
    "    max_char = maxChar(byteString) \n",
    "    plaintext = \"\"\n",
    "    trueKey_hex = \"\"\n",
    "    for key in range(255):\n",
    "        char_hex = format(ord(max_char), 'x')\n",
    "        key_hex = hex(key)[2:]\n",
    "        plain_char = XOR(max_char, str(key))\n",
    "\n",
    "        if (plain_char == format(ord(\"e\"), 'x')):\n",
    "            trueKey_hex = key_hex \n",
    "            print(\"found key: \", trueKey_hex)\n",
    "\n",
    "    if trueKey_hex == \"\": \n",
    "        return \"Error\"\n",
    "    longKey = trueKey_hex * len(cyphertext)\n",
    "    plaintext = XOR(byteString, hex(int(longKey)))\n",
    "    return plaintext\n",
    "\n",
    "# 1b37373331363f78151b7f2b783431333d78397828372d363c78373e783a393b3736\n",
    "res = decipher(\"1b37373331363f78151b7f2b783431333d78397828372d363c78373e783a393b3736\")\n",
    "res\n"
   ]
  },
  {
   "cell_type": "code",
   "execution_count": 329,
   "metadata": {},
   "outputs": [
    {
     "name": "stdout",
     "output_type": "stream",
     "text": [
      "index:  80  key:  P  msg:  b'Kggcafo(EK/{(dacm(i(xg}fl(gn(jikgf'\n",
      "index:  81  key:  Q  msg:  b'Jffb`gn)DJ.z)e`bl)h)yf|gm)fo)khjfg'\n",
      "index:  82  key:  R  msg:  b'Ieeacdm*GI-y*fcao*k*ze\\x7fdn*el*hkied'\n",
      "index:  83  key:  S  msg:  b'Hdd`bel+FH,x+gb`n+j+{d~eo+dm+ijhde'\n",
      "index:  84  key:  T  msg:  b'Occgebk,AO+\\x7f,`egi,m,|cybh,cj,nmocb'\n",
      "index:  85  key:  U  msg:  b'Nbbfdcj-@N*~-adfh-l-}bxci-bk-olnbc'\n",
      "index:  86  key:  V  msg:  b'Maaeg`i.CM)}.bgek.o.~a{`j.ah.loma`'\n",
      "index:  87  key:  W  msg:  b'L``dfah/BL(|/cfdj/n/\\x7f`zak/`i/mnl`a'\n",
      "index:  88  key:  X  msg:  b\"Cooking MC's like a pound of bacon\"\n",
      "index:  89  key:  Y  msg:  b'Bnnjhof!LB&r!mhjd!`!qntoe!ng!c`bno'\n"
     ]
    }
   ],
   "source": [
    "ciphertext = \"1b37373331363f78151b7f2b783431333d78397828372d363c78373e783a393b3736\"\n",
    "\n",
    "for i in range(80,90):\n",
    "    key  = chr(i)\n",
    "    longkey = key * 35 #how do we fund the number 35 represents ?\n",
    "    key_hex = longkey.encode(\"utf-8\").hex()\n",
    "\n",
    "    decoded = XOR(cyphertext, key_hex) #hex(int(ciphertext,16)^ int(key_hex,16))\n",
    "    res = bytes.fromhex(decoded[2:]) \n",
    "    print(\"index: \",i,\" key: \", chr(i), \" msg: \", res)"
   ]
  },
  {
   "cell_type": "code",
   "execution_count": null,
   "metadata": {},
   "outputs": [],
   "source": []
  }
 ],
 "metadata": {
  "kernelspec": {
   "display_name": "Python 3",
   "language": "python",
   "name": "python3"
  },
  "language_info": {
   "codemirror_mode": {
    "name": "ipython",
    "version": 3
   },
   "file_extension": ".py",
   "mimetype": "text/x-python",
   "name": "python",
   "nbconvert_exporter": "python",
   "pygments_lexer": "ipython3",
   "version": "3.11.7"
  }
 },
 "nbformat": 4,
 "nbformat_minor": 2
}
