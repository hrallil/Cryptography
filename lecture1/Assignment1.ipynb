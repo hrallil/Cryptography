{
 "cells": [
  {
   "cell_type": "code",
   "execution_count": 114,
   "metadata": {},
   "outputs": [
    {
     "data": {
      "text/plain": [
       "b'Welcome to the crypto course!'"
      ]
     },
     "execution_count": 114,
     "metadata": {},
     "output_type": "execute_result"
    }
   ],
   "source": [
    "example = \"49276d206b696c6c696e6720796f757220627261696e206c696b65206120706f69736f6e6f7573206d757368726f6f6d\"\n",
    "assignment = \"57656c636f6d6520746f207468652063727970746f20636f7572736521\"\n",
    "def hex_to_bytes(hex_string):\n",
    "    return bytes.fromhex(hex_string)\n",
    "\n",
    "hex_to_bytes(assignment)"
   ]
  },
  {
   "cell_type": "code",
   "execution_count": 115,
   "metadata": {},
   "outputs": [
    {
     "data": {
      "text/plain": [
       "'746865206b696420646f6e277420706c6179'"
      ]
     },
     "execution_count": 115,
     "metadata": {},
     "output_type": "execute_result"
    }
   ],
   "source": [
    "def XOR(a,b):\n",
    "    \"\"\" Returns a Hexadecimal\"\"\"\n",
    "    a_hex = int(a, 16)\n",
    "    b_hex = int(b, 16)\n",
    "    return hex(a_hex^b_hex)[2:]\n",
    "\n",
    "cyphertext = XOR(\"1c0111001f010100061a024b53535009181c\",\"686974207468652062756c6c277320657965\")\n",
    "cyphertext"
   ]
  },
  {
   "cell_type": "code",
   "execution_count": 116,
   "metadata": {},
   "outputs": [],
   "source": [
    "def score_plaintext(plaintext):\n",
    "    # A simple scoring function based on English character frequency:\n",
    "    # https://www3.nd.edu/~busiforc/handouts/cryptography/letterfrequencies.html\n",
    "    # for white space:\n",
    "    # https://www.researchgate.net/figure/Probability-of-characters-in-English-The-SPACE-character-represented-by-has-the_fig2_47518347\n",
    "\n",
    "    frequency = {\n",
    "        'e': 11.1607, 't': \t6.9509, 'a': 8.4966, 'o': 7.1635, 'i': 7.5448,\n",
    "        'n': 6.6544, 's': 5.7351, 'h': 3.0034, 'r': 7.5809, 'd': 3.3844,\n",
    "        'l': 5.4893, 'u': 3.6308, 'c': 4.5388, 'm': 3.0129, 'w': 1.2899,\n",
    "        'f': 1.8121, 'g': 2.4705, 'y': 1.7779, 'p': 3.1671, 'b': 2.0720,\n",
    "        'v': 1.0074, 'k': 1.1016, 'j': 0.1965, 'x': 0.2902, 'q': 0.1962,\n",
    "        'z': 0.2722, ' ': 20\n",
    "    }\n",
    "\n",
    "    score = sum(frequency.get(char, 0) for char in plaintext.lower())\n",
    "    return score"
   ]
  },
  {
   "cell_type": "code",
   "execution_count": 117,
   "metadata": {},
   "outputs": [
    {
     "name": "stdout",
     "output_type": "stream",
     "text": [
      "\n",
      "Best Key: 88: X, score: 265.61800000000005\n",
      "Decrypted Message: Cooking MC's like a pound of bacon\n"
     ]
    }
   ],
   "source": [
    "\n",
    "def xor_decrypt(ciphertext, key):\n",
    "    decrypted_bytes = [byte ^ key for byte in ciphertext]\n",
    "    return bytes(decrypted_bytes).decode('utf-8', errors='ignore')\n",
    "\n",
    "\n",
    "def decode_text(ciphertext):\n",
    "    ciphertext_bytes = hex_to_bytes(ciphertext)\n",
    "    best_key = None\n",
    "    best_score = 0\n",
    "\n",
    "    for key in range(256):\n",
    "        decrypted_text = xor_decrypt(ciphertext_bytes, key)\n",
    "        current_score = score_plaintext(decrypted_text)\n",
    "\n",
    "        if current_score > best_score:\n",
    "            # print(f\"score: {current_score}, \\t text: {decrypted_text}\")\n",
    "            best_score = current_score\n",
    "            best_key = key\n",
    "\n",
    "    return best_key, xor_decrypt(ciphertext_bytes, best_key), best_score\n",
    "\n",
    "hex_string = \"1b37373331363f78151b7f2b783431333d78397828372d363c78373e783a393b3736\"\n",
    "best_key, decrypted_message, score = decode_text(hex_string)\n",
    "\n",
    "print(f\"\\nBest Key: {best_key}: {chr(best_key)}, score: {score}\")\n",
    "print(f\"Decrypted Message: {decrypted_message}\")\n"
   ]
  },
  {
   "cell_type": "code",
   "execution_count": 118,
   "metadata": {},
   "outputs": [
    {
     "name": "stdout",
     "output_type": "stream",
     "text": [
      "best entry {'key': 53, 'key_char': '5', 'score': 229.55489999999995, 'Dectypted_msg': 'Now that the party is jumping\\n'}\n"
     ]
    }
   ],
   "source": [
    "f = open(\"question4.txt\")\n",
    "file = f.read().split(\"\\n\")\n",
    "l = []\n",
    "\n",
    "for line in file: \n",
    "    hex_string = line\n",
    "    best_key, decrypted_message, score  = decode_text(hex_string)\n",
    "\n",
    "    # print(f\"\\nBest Key: {best_key}: {chr(best_key)}, score: {score}\")\n",
    "    # print(f\"Decrypted Message: {decrypted_message}\")\n",
    "    entry = {\n",
    "        \"key\":best_key,\n",
    "        \"key_char\": chr(best_key),\n",
    "        \"score\": score,\n",
    "        \"Dectypted_msg\": decrypted_message\n",
    "    }\n",
    "    l.append(entry)\n",
    "\n",
    "maxScore = 0\n",
    "bestEntry = {}\n",
    "for entry in l: \n",
    "    if(entry[\"score\"] > maxScore):\n",
    "        bestEntry = entry\n",
    "        maxScore = entry[\"score\"]\n",
    "        # print(\"updated \",entry)\n",
    "\n",
    "print(\"best entry\", bestEntry)\n"
   ]
  },
  {
   "cell_type": "code",
   "execution_count": 119,
   "metadata": {},
   "outputs": [
    {
     "name": "stdout",
     "output_type": "stream",
     "text": [
      "True\n",
      "True\n",
      "text 1:  0b3637272a2b2e63622c2e69692a23693a2a3c6324202d623d63343c2a26226324272765272a282b2f20\n",
      "True\n",
      "True\n",
      "text 2:  0063222663263b223f30633221262b690a652126243b632469203c24212425\n"
     ]
    }
   ],
   "source": [
    "def byte_xor(ba1, ba2):\n",
    "    return bytes([_a ^ _b for _a, _b in zip(ba1, ba2)])\n",
    "\n",
    " \n",
    "def encrypt_text(plain_text):\n",
    "    key = \"ICE\"\n",
    "    # A bit hard coded. \n",
    "    if (len(plain_text)%3 == 0): \n",
    "        longKey = key * int(len(plain_text)/3)\n",
    "    elif (len(plain_text)%3 == 1):\n",
    "        longKey = key * int(len(plain_text)/3) + \"I\"\n",
    "    else:\n",
    "        longKey = key * int(len(plain_text)/3) + \"IC\"\n",
    "    print(len(longKey) == len(plain_text))\n",
    "    print(len(longKey.encode(\"utf-8\")) == len(plain_text.encode(\"utf-8\")))\n",
    "    return byte_xor(plain_text.encode(\"utf-8\"), longKey.encode(\"utf-8\")).hex()\n",
    "     \n",
    "\n",
    "text1 = \"Burning 'em, if you ain't quick and nimble\"\n",
    "text2 = \"I go crazy when I hear a cymbal\"\n",
    "\n",
    "#\n",
    "\n",
    "#\"B\".encode(\"utf-8\") ^ \"C\".encode(\"utf-8\")\n",
    "\n",
    "\n",
    "byte_xor(\"my name is mathias\".encode(\"utf-8\"), \"ICEICEICEICEICEICE\".encode(\"utf-8\"))\n",
    "print(\"text 1: \", encrypt_text(text1))\n",
    "print(\"text 2: \", encrypt_text(text2))"
   ]
  }
 ],
 "metadata": {
  "kernelspec": {
   "display_name": "Python 3",
   "language": "python",
   "name": "python3"
  },
  "language_info": {
   "codemirror_mode": {
    "name": "ipython",
    "version": 3
   },
   "file_extension": ".py",
   "mimetype": "text/x-python",
   "name": "python",
   "nbconvert_exporter": "python",
   "pygments_lexer": "ipython3",
   "version": "3.10.11"
  }
 },
 "nbformat": 4,
 "nbformat_minor": 2
}
